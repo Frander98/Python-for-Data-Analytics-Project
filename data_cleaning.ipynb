{
 "cells": [
  {
   "cell_type": "markdown",
   "metadata": {},
   "source": [
    "## Data cleaning and Data Exploratory Analysis"
   ]
  },
  {
   "cell_type": "markdown",
   "metadata": {},
   "source": [
    "### 1-Import libraries"
   ]
  },
  {
   "cell_type": "markdown",
   "metadata": {},
   "source": [
    "#### 1.1-Import the required libraries for the analysis "
   ]
  },
  {
   "cell_type": "code",
   "execution_count": 1,
   "metadata": {},
   "outputs": [],
   "source": [
    "import pandas as pd\n",
    "import numpy as np\n",
    "import matplotlib.pyplot as plt\n",
    "import seaborn as sns"
   ]
  },
  {
   "cell_type": "markdown",
   "metadata": {},
   "source": [
    "### 2-Import the dataset(s)"
   ]
  },
  {
   "cell_type": "markdown",
   "metadata": {},
   "source": [
    "#### 2.1- Import the csv file"
   ]
  },
  {
   "cell_type": "code",
   "execution_count": 2,
   "metadata": {},
   "outputs": [],
   "source": [
    "df = pd.read_csv('archive/train.csv')"
   ]
  },
  {
   "cell_type": "markdown",
   "metadata": {},
   "source": [
    "### 3-Explore the dataframe"
   ]
  },
  {
   "cell_type": "markdown",
   "metadata": {},
   "source": [
    "#### 3.0- Data dictionary\n",
    "\n",
    "The trajectories for all the 442 taxis running in the city of Porto, in Portugal. Each data sample corresponds to one completed trip. It contains a total of\n",
    "9 (nine) features, described as follows:\n",
    "\n",
    "| Column Number | Column Name  | Datatype | Description                                                                                                                                                                                                                                                                                                                                                                                                                                                                                                                                                                                                                                                                                                                                                                                                                                     |\n",
    "|---------------|--------------|----------|-------------------------------------------------------------------------------------------------------------------------------------------------------------------------------------------------------------------------------------------------------------------------------------------------------------------------------------------------------------------------------------------------------------------------------------------------------------------------------------------------------------------------------------------------------------------------------------------------------------------------------------------------------------------------------------------------------------------------------------------------------------------------------------------------------------------------------------------------|\n",
    "| 1             | TRIP_ID      | STRING   | It contains an unique identifier for each trip                                                                                                                                                                                                                                                                                                                                                                                                                                                                                                                                                                                                                                                                                                                                                                                                  |\n",
    "| 2             | CALL_TYPE    | CHAR     | It identifies the way used to demand this service. It may contain one of three possible values:  ‘A’ if this trip was dispatched from the central; ‘B’ if this trip was demanded directly to a taxi driver on a specific stand; ‘C’ otherwise (i.e. a trip demanded on a random street).                                                                                                                                                                                                                                                                                                                                                                                                                                                                                                                                                        |\n",
    "| 3             | ORIGIN_CALL  | INTEGER  | It contains an unique identifier for each phone number which was used to demand, at least, one service. It identifies the trip’s customer if CALL_TYPE=’A’. Otherwise, it assumes a NULL value                                                                                                                                                                                                                                                                                                                                                                                                                                                                                                                                                                                                                                                  |\n",
    "| 4             | ORIGIN_STAND | INTEGER  | It contains an unique identifier for the taxi stand. It identifies the starting point of the trip if CALL_TYPE=’B’. Otherwise, it assumes a NULL value                                                                                                                                                                                                                                                                                                                                                                                                                                                                                                                                                                                                                                                                                          |\n",
    "| 5             | TAXI_ID      | INTEGER  | It contains an unique identifier for the taxi driver that performed each trip                                                                                                                                                                                                                                                                                                                                                                                                                                                                                                                                                                                                                                                                                                                                                                   |\n",
    "| 6             | TIMESTAMP    | INTEGER  | Unix Timestamp (in seconds). It identifies the trip’s start                                                                                                                                                                                                                                                                                                                                                                                                                                                                                                                                                                                                                                                                                                                                                                                     |\n",
    "| 7             | DAYTYPE      | CHAR     | It identifies the daytype of the trip’s start. It assumes one of three possible values: ‘B’ if this trip started on a holiday or any other special day (i.e. extending holidays, floating holidays, etc.); ‘C’ if the trip started on a day before a type-B day; ‘A’ otherwise (i.e. a normal day, workday or weekend).                                                                                                                                                                                                                                                                                                                                                                                                                                                                                                                         |\n",
    "| 8             | MISSING_DATA | BOOLEAN  | It is FALSE when the GPS data stream is complete and TRUE whenever one (or more) locations are missing                                                                                                                                                                                                                                                                                                                                                                                                                                                                                                                                                                                                                                                                                                                                          |\n",
    "| 9             | POLYLINE     | STRING   | It contains a list of GPS coordinates (i.e. WGS84 format) mapped as a string. The beginning and the end of the string are identified with brackets (i.e. [ and ], respectively). Each pair of coordinates is also identified by the same brackets as [LONGITUDE, LATITUDE]. This list contains one pair of coordinates for each 15 seconds of trip. The last list item corresponds to the trip’s destination while the first one represents its start;  The total travel time of the trip (the prediction target of this competition) is defined as the (number of points-1) x 15 seconds. For example, a trip with 101 data points in POLYLINE has a length of (101-1) * 15 = 1500 seconds. Some trips have missing data points in POLYLINE, indicated by MISSING_DATA column, and it is part of the challenge how you utilize this knowledge. |\n"
   ]
  },
  {
   "cell_type": "markdown",
   "metadata": {},
   "source": [
    "#### 3.1- Show first n rows"
   ]
  },
  {
   "cell_type": "code",
   "execution_count": 3,
   "metadata": {},
   "outputs": [
    {
     "data": {
      "text/html": [
       "<div>\n",
       "<style scoped>\n",
       "    .dataframe tbody tr th:only-of-type {\n",
       "        vertical-align: middle;\n",
       "    }\n",
       "\n",
       "    .dataframe tbody tr th {\n",
       "        vertical-align: top;\n",
       "    }\n",
       "\n",
       "    .dataframe thead th {\n",
       "        text-align: right;\n",
       "    }\n",
       "</style>\n",
       "<table border=\"1\" class=\"dataframe\">\n",
       "  <thead>\n",
       "    <tr style=\"text-align: right;\">\n",
       "      <th></th>\n",
       "      <th>TRIP_ID</th>\n",
       "      <th>CALL_TYPE</th>\n",
       "      <th>ORIGIN_CALL</th>\n",
       "      <th>ORIGIN_STAND</th>\n",
       "      <th>TAXI_ID</th>\n",
       "      <th>TIMESTAMP</th>\n",
       "      <th>DAY_TYPE</th>\n",
       "      <th>MISSING_DATA</th>\n",
       "      <th>POLYLINE</th>\n",
       "    </tr>\n",
       "  </thead>\n",
       "  <tbody>\n",
       "    <tr>\n",
       "      <th>0</th>\n",
       "      <td>1372636858620000589</td>\n",
       "      <td>C</td>\n",
       "      <td>NaN</td>\n",
       "      <td>NaN</td>\n",
       "      <td>20000589</td>\n",
       "      <td>1372636858</td>\n",
       "      <td>A</td>\n",
       "      <td>False</td>\n",
       "      <td>[[-8.618643,41.141412],[-8.618499,41.141376],[...</td>\n",
       "    </tr>\n",
       "    <tr>\n",
       "      <th>1</th>\n",
       "      <td>1372637303620000596</td>\n",
       "      <td>B</td>\n",
       "      <td>NaN</td>\n",
       "      <td>7.0</td>\n",
       "      <td>20000596</td>\n",
       "      <td>1372637303</td>\n",
       "      <td>A</td>\n",
       "      <td>False</td>\n",
       "      <td>[[-8.639847,41.159826],[-8.640351,41.159871],[...</td>\n",
       "    </tr>\n",
       "    <tr>\n",
       "      <th>2</th>\n",
       "      <td>1372636951620000320</td>\n",
       "      <td>C</td>\n",
       "      <td>NaN</td>\n",
       "      <td>NaN</td>\n",
       "      <td>20000320</td>\n",
       "      <td>1372636951</td>\n",
       "      <td>A</td>\n",
       "      <td>False</td>\n",
       "      <td>[[-8.612964,41.140359],[-8.613378,41.14035],[-...</td>\n",
       "    </tr>\n",
       "    <tr>\n",
       "      <th>3</th>\n",
       "      <td>1372636854620000520</td>\n",
       "      <td>C</td>\n",
       "      <td>NaN</td>\n",
       "      <td>NaN</td>\n",
       "      <td>20000520</td>\n",
       "      <td>1372636854</td>\n",
       "      <td>A</td>\n",
       "      <td>False</td>\n",
       "      <td>[[-8.574678,41.151951],[-8.574705,41.151942],[...</td>\n",
       "    </tr>\n",
       "    <tr>\n",
       "      <th>4</th>\n",
       "      <td>1372637091620000337</td>\n",
       "      <td>C</td>\n",
       "      <td>NaN</td>\n",
       "      <td>NaN</td>\n",
       "      <td>20000337</td>\n",
       "      <td>1372637091</td>\n",
       "      <td>A</td>\n",
       "      <td>False</td>\n",
       "      <td>[[-8.645994,41.18049],[-8.645949,41.180517],[-...</td>\n",
       "    </tr>\n",
       "  </tbody>\n",
       "</table>\n",
       "</div>"
      ],
      "text/plain": [
       "               TRIP_ID CALL_TYPE  ORIGIN_CALL  ORIGIN_STAND   TAXI_ID  \\\n",
       "0  1372636858620000589         C          NaN           NaN  20000589   \n",
       "1  1372637303620000596         B          NaN           7.0  20000596   \n",
       "2  1372636951620000320         C          NaN           NaN  20000320   \n",
       "3  1372636854620000520         C          NaN           NaN  20000520   \n",
       "4  1372637091620000337         C          NaN           NaN  20000337   \n",
       "\n",
       "    TIMESTAMP DAY_TYPE  MISSING_DATA  \\\n",
       "0  1372636858        A         False   \n",
       "1  1372637303        A         False   \n",
       "2  1372636951        A         False   \n",
       "3  1372636854        A         False   \n",
       "4  1372637091        A         False   \n",
       "\n",
       "                                            POLYLINE  \n",
       "0  [[-8.618643,41.141412],[-8.618499,41.141376],[...  \n",
       "1  [[-8.639847,41.159826],[-8.640351,41.159871],[...  \n",
       "2  [[-8.612964,41.140359],[-8.613378,41.14035],[-...  \n",
       "3  [[-8.574678,41.151951],[-8.574705,41.151942],[...  \n",
       "4  [[-8.645994,41.18049],[-8.645949,41.180517],[-...  "
      ]
     },
     "execution_count": 3,
     "metadata": {},
     "output_type": "execute_result"
    }
   ],
   "source": [
    "df.head(5)"
   ]
  },
  {
   "cell_type": "markdown",
   "metadata": {},
   "source": [
    "#### 3.2- Show last n rows"
   ]
  },
  {
   "cell_type": "code",
   "execution_count": 4,
   "metadata": {},
   "outputs": [
    {
     "data": {
      "text/html": [
       "<div>\n",
       "<style scoped>\n",
       "    .dataframe tbody tr th:only-of-type {\n",
       "        vertical-align: middle;\n",
       "    }\n",
       "\n",
       "    .dataframe tbody tr th {\n",
       "        vertical-align: top;\n",
       "    }\n",
       "\n",
       "    .dataframe thead th {\n",
       "        text-align: right;\n",
       "    }\n",
       "</style>\n",
       "<table border=\"1\" class=\"dataframe\">\n",
       "  <thead>\n",
       "    <tr style=\"text-align: right;\">\n",
       "      <th></th>\n",
       "      <th>TRIP_ID</th>\n",
       "      <th>CALL_TYPE</th>\n",
       "      <th>ORIGIN_CALL</th>\n",
       "      <th>ORIGIN_STAND</th>\n",
       "      <th>TAXI_ID</th>\n",
       "      <th>TIMESTAMP</th>\n",
       "      <th>DAY_TYPE</th>\n",
       "      <th>MISSING_DATA</th>\n",
       "      <th>POLYLINE</th>\n",
       "    </tr>\n",
       "  </thead>\n",
       "  <tbody>\n",
       "    <tr>\n",
       "      <th>1710665</th>\n",
       "      <td>1404171463620000698</td>\n",
       "      <td>C</td>\n",
       "      <td>NaN</td>\n",
       "      <td>NaN</td>\n",
       "      <td>20000698</td>\n",
       "      <td>1404171463</td>\n",
       "      <td>A</td>\n",
       "      <td>False</td>\n",
       "      <td>[[-8.612469,41.14602],[-8.612487,41.145993],[-...</td>\n",
       "    </tr>\n",
       "    <tr>\n",
       "      <th>1710666</th>\n",
       "      <td>1404171367620000670</td>\n",
       "      <td>C</td>\n",
       "      <td>NaN</td>\n",
       "      <td>NaN</td>\n",
       "      <td>20000670</td>\n",
       "      <td>1404171367</td>\n",
       "      <td>A</td>\n",
       "      <td>False</td>\n",
       "      <td>[[-8.610138,41.140845],[-8.610174,41.140935],[...</td>\n",
       "    </tr>\n",
       "    <tr>\n",
       "      <th>1710667</th>\n",
       "      <td>1388745716620000264</td>\n",
       "      <td>C</td>\n",
       "      <td>NaN</td>\n",
       "      <td>NaN</td>\n",
       "      <td>20000264</td>\n",
       "      <td>1388745716</td>\n",
       "      <td>A</td>\n",
       "      <td>False</td>\n",
       "      <td>[]</td>\n",
       "    </tr>\n",
       "    <tr>\n",
       "      <th>1710668</th>\n",
       "      <td>1404141826620000248</td>\n",
       "      <td>B</td>\n",
       "      <td>NaN</td>\n",
       "      <td>12.0</td>\n",
       "      <td>20000248</td>\n",
       "      <td>1404141826</td>\n",
       "      <td>A</td>\n",
       "      <td>False</td>\n",
       "      <td>[[-8.630712,41.154885],[-8.63073,41.154813],[-...</td>\n",
       "    </tr>\n",
       "    <tr>\n",
       "      <th>1710669</th>\n",
       "      <td>1404157147620000079</td>\n",
       "      <td>B</td>\n",
       "      <td>NaN</td>\n",
       "      <td>34.0</td>\n",
       "      <td>20000079</td>\n",
       "      <td>1404157147</td>\n",
       "      <td>A</td>\n",
       "      <td>False</td>\n",
       "      <td>[[-8.615538,41.140629],[-8.615421,41.140746],[...</td>\n",
       "    </tr>\n",
       "  </tbody>\n",
       "</table>\n",
       "</div>"
      ],
      "text/plain": [
       "                     TRIP_ID CALL_TYPE  ORIGIN_CALL  ORIGIN_STAND   TAXI_ID  \\\n",
       "1710665  1404171463620000698         C          NaN           NaN  20000698   \n",
       "1710666  1404171367620000670         C          NaN           NaN  20000670   \n",
       "1710667  1388745716620000264         C          NaN           NaN  20000264   \n",
       "1710668  1404141826620000248         B          NaN          12.0  20000248   \n",
       "1710669  1404157147620000079         B          NaN          34.0  20000079   \n",
       "\n",
       "          TIMESTAMP DAY_TYPE  MISSING_DATA  \\\n",
       "1710665  1404171463        A         False   \n",
       "1710666  1404171367        A         False   \n",
       "1710667  1388745716        A         False   \n",
       "1710668  1404141826        A         False   \n",
       "1710669  1404157147        A         False   \n",
       "\n",
       "                                                  POLYLINE  \n",
       "1710665  [[-8.612469,41.14602],[-8.612487,41.145993],[-...  \n",
       "1710666  [[-8.610138,41.140845],[-8.610174,41.140935],[...  \n",
       "1710667                                                 []  \n",
       "1710668  [[-8.630712,41.154885],[-8.63073,41.154813],[-...  \n",
       "1710669  [[-8.615538,41.140629],[-8.615421,41.140746],[...  "
      ]
     },
     "execution_count": 4,
     "metadata": {},
     "output_type": "execute_result"
    }
   ],
   "source": [
    "df.tail(5)"
   ]
  },
  {
   "cell_type": "markdown",
   "metadata": {},
   "source": [
    "#### 3.3-Show the shape **(number of rows, number of columns)** of the dataframe"
   ]
  },
  {
   "cell_type": "code",
   "execution_count": 5,
   "metadata": {},
   "outputs": [
    {
     "data": {
      "text/plain": [
       "(1710670, 9)"
      ]
     },
     "execution_count": 5,
     "metadata": {},
     "output_type": "execute_result"
    }
   ],
   "source": [
    "df.shape"
   ]
  },
  {
   "cell_type": "markdown",
   "metadata": {},
   "source": [
    "#### 3.4- Print a concise summary of a DataFrame"
   ]
  },
  {
   "cell_type": "code",
   "execution_count": 6,
   "metadata": {},
   "outputs": [
    {
     "name": "stdout",
     "output_type": "stream",
     "text": [
      "<class 'pandas.core.frame.DataFrame'>\n",
      "RangeIndex: 1710670 entries, 0 to 1710669\n",
      "Data columns (total 9 columns):\n",
      " #   Column        Dtype  \n",
      "---  ------        -----  \n",
      " 0   TRIP_ID       int64  \n",
      " 1   CALL_TYPE     object \n",
      " 2   ORIGIN_CALL   float64\n",
      " 3   ORIGIN_STAND  float64\n",
      " 4   TAXI_ID       int64  \n",
      " 5   TIMESTAMP     int64  \n",
      " 6   DAY_TYPE      object \n",
      " 7   MISSING_DATA  bool   \n",
      " 8   POLYLINE      object \n",
      "dtypes: bool(1), float64(2), int64(3), object(3)\n",
      "memory usage: 106.0+ MB\n"
     ]
    }
   ],
   "source": [
    "df.info()"
   ]
  },
  {
   "cell_type": "markdown",
   "metadata": {},
   "source": [
    "#### 3.5-Generate descriptive statistics."
   ]
  },
  {
   "cell_type": "code",
   "execution_count": 7,
   "metadata": {},
   "outputs": [
    {
     "data": {
      "text/html": [
       "<div>\n",
       "<style scoped>\n",
       "    .dataframe tbody tr th:only-of-type {\n",
       "        vertical-align: middle;\n",
       "    }\n",
       "\n",
       "    .dataframe tbody tr th {\n",
       "        vertical-align: top;\n",
       "    }\n",
       "\n",
       "    .dataframe thead th {\n",
       "        text-align: right;\n",
       "    }\n",
       "</style>\n",
       "<table border=\"1\" class=\"dataframe\">\n",
       "  <thead>\n",
       "    <tr style=\"text-align: right;\">\n",
       "      <th></th>\n",
       "      <th>TRIP_ID</th>\n",
       "      <th>ORIGIN_CALL</th>\n",
       "      <th>ORIGIN_STAND</th>\n",
       "      <th>TAXI_ID</th>\n",
       "      <th>TIMESTAMP</th>\n",
       "    </tr>\n",
       "  </thead>\n",
       "  <tbody>\n",
       "    <tr>\n",
       "      <th>count</th>\n",
       "      <td>1.710670e+06</td>\n",
       "      <td>364770.000000</td>\n",
       "      <td>806579.000000</td>\n",
       "      <td>1.710670e+06</td>\n",
       "      <td>1.710670e+06</td>\n",
       "    </tr>\n",
       "    <tr>\n",
       "      <th>mean</th>\n",
       "      <td>1.388622e+18</td>\n",
       "      <td>24490.363018</td>\n",
       "      <td>30.272381</td>\n",
       "      <td>2.000035e+07</td>\n",
       "      <td>1.388622e+09</td>\n",
       "    </tr>\n",
       "    <tr>\n",
       "      <th>std</th>\n",
       "      <td>9.180944e+15</td>\n",
       "      <td>19624.290043</td>\n",
       "      <td>17.747840</td>\n",
       "      <td>2.112405e+02</td>\n",
       "      <td>9.180944e+06</td>\n",
       "    </tr>\n",
       "    <tr>\n",
       "      <th>min</th>\n",
       "      <td>1.372637e+18</td>\n",
       "      <td>2001.000000</td>\n",
       "      <td>1.000000</td>\n",
       "      <td>2.000000e+07</td>\n",
       "      <td>1.372637e+09</td>\n",
       "    </tr>\n",
       "    <tr>\n",
       "      <th>25%</th>\n",
       "      <td>1.380731e+18</td>\n",
       "      <td>6593.000000</td>\n",
       "      <td>15.000000</td>\n",
       "      <td>2.000017e+07</td>\n",
       "      <td>1.380731e+09</td>\n",
       "    </tr>\n",
       "    <tr>\n",
       "      <th>50%</th>\n",
       "      <td>1.388493e+18</td>\n",
       "      <td>18755.000000</td>\n",
       "      <td>27.000000</td>\n",
       "      <td>2.000034e+07</td>\n",
       "      <td>1.388493e+09</td>\n",
       "    </tr>\n",
       "    <tr>\n",
       "      <th>75%</th>\n",
       "      <td>1.396750e+18</td>\n",
       "      <td>40808.000000</td>\n",
       "      <td>49.000000</td>\n",
       "      <td>2.000052e+07</td>\n",
       "      <td>1.396750e+09</td>\n",
       "    </tr>\n",
       "    <tr>\n",
       "      <th>max</th>\n",
       "      <td>1.404173e+18</td>\n",
       "      <td>63884.000000</td>\n",
       "      <td>63.000000</td>\n",
       "      <td>2.000098e+07</td>\n",
       "      <td>1.404173e+09</td>\n",
       "    </tr>\n",
       "  </tbody>\n",
       "</table>\n",
       "</div>"
      ],
      "text/plain": [
       "            TRIP_ID    ORIGIN_CALL   ORIGIN_STAND       TAXI_ID     TIMESTAMP\n",
       "count  1.710670e+06  364770.000000  806579.000000  1.710670e+06  1.710670e+06\n",
       "mean   1.388622e+18   24490.363018      30.272381  2.000035e+07  1.388622e+09\n",
       "std    9.180944e+15   19624.290043      17.747840  2.112405e+02  9.180944e+06\n",
       "min    1.372637e+18    2001.000000       1.000000  2.000000e+07  1.372637e+09\n",
       "25%    1.380731e+18    6593.000000      15.000000  2.000017e+07  1.380731e+09\n",
       "50%    1.388493e+18   18755.000000      27.000000  2.000034e+07  1.388493e+09\n",
       "75%    1.396750e+18   40808.000000      49.000000  2.000052e+07  1.396750e+09\n",
       "max    1.404173e+18   63884.000000      63.000000  2.000098e+07  1.404173e+09"
      ]
     },
     "execution_count": 7,
     "metadata": {},
     "output_type": "execute_result"
    }
   ],
   "source": [
    "df.describe()"
   ]
  },
  {
   "cell_type": "markdown",
   "metadata": {},
   "source": [
    "### 4-Data cleaning process"
   ]
  },
  {
   "cell_type": "markdown",
   "metadata": {},
   "source": [
    "This step involves several steps to ensure that the dataset is ready for analysis. Here are some of them: \n",
    "\n",
    "**1. Loading the Data**\n",
    "Read data from a CSV, Excel, SQL database, or other sources using pandas functions like `pd.read_csv()`, `pd.read_excel()`, etc.\n",
    "\n",
    "**2. Handling Missing Data**\n",
    "Identifying missing data: Use `df.isnull()` or `df.info()` to locate missing values.\n",
    "Fill missing data: Use `df.fillna(value)` to replace missing values with a specific value, like the mean, median, or a constant.\n",
    "Drop missing data: Use `df.dropna()` to remove rows or columns with missing values.\n",
    "\n",
    "**3. Removing Duplicates**\n",
    "Use `df.duplicated()` to identify duplicate rows.\n",
    "Use `df.drop_duplicates()` to remove duplicate rows.\n",
    "\n",
    "**4. Handling Incorrect Data Types**\n",
    "Check data types with `df.dtypes()`.\n",
    "Convert data types using functions like `pd.to_numeric()` for numeric columns, `pd.to_datetime()` for dates, or `astype()` for other conversions.\n",
    "\n",
    "**5. Handling Outliers**\n",
    "Identify outliers using statistical methods like standard deviation (z-score), interquartilic range or visualization tools like boxplots.\n",
    "Remove or cap outliers by filtering or using quantile-based techniques.\n",
    "\n",
    "**6. Renaming Columns**\n",
    "Use `df.rename()` to rename columns to more meaningful or standardized names.\n",
    "\n",
    "**7. Standardizing or Normalizing Data**\n",
    "Convert all values to a common format or scale (e.g., all strings in lowercase with `str.lower()` or all numeric data normalized to a range).\n",
    "\n",
    "**8. String Cleaning**\n",
    "Use string methods like `str.strip()`, `str.replace()`, and regular expressions to clean up text data.\n",
    "\n",
    "**9. Handling Categorical Data**\n",
    "Convert categorical data to dummy/indicator variables using `pd.get_dummies()`.\n",
    "Map categories: Use `df['column'].map()` or `df['column'].replace()` to standardize categories.\n",
    "\n",
    "**10. Reindexing and Sorting**\n",
    "Reindex the data using `df.reset_index()` or `df.set_index()` as necessary.\n",
    "Sort the data with `df.sort_values()`.\n",
    "\n",
    "**11. Dealing with Date and Time Data**\n",
    "Use `pd.to_datetime()` to convert columns to datetime objects.\n",
    "Extract components like year, month, or day using `df['column'].dt`.\n",
    "\n",
    "**12. Feature Engineering**\n",
    "Create new columns based on existing ones, such as aggregations, combinations, or transformations.\n",
    "\n",
    "**13. Validation of Data Cleaning**\n",
    "After cleaning, review the summary statistics with `df.describe()` and use visualizations to ensure data consistency and correctness.\n",
    "\n",
    "**Note**: Adapt the steps to the project you're working on and use the tool Data Wrangler to simplify the process."
   ]
  },
  {
   "cell_type": "markdown",
   "metadata": {},
   "source": [
    "### 4.1- Datatype conversions"
   ]
  },
  {
   "cell_type": "code",
   "execution_count": null,
   "metadata": {},
   "outputs": [
    {
     "data": {
      "text/html": [
       "<div>\n",
       "<style scoped>\n",
       "    .dataframe tbody tr th:only-of-type {\n",
       "        vertical-align: middle;\n",
       "    }\n",
       "\n",
       "    .dataframe tbody tr th {\n",
       "        vertical-align: top;\n",
       "    }\n",
       "\n",
       "    .dataframe thead th {\n",
       "        text-align: right;\n",
       "    }\n",
       "</style>\n",
       "<table border=\"1\" class=\"dataframe\">\n",
       "  <thead>\n",
       "    <tr style=\"text-align: right;\">\n",
       "      <th></th>\n",
       "      <th>TRIP_ID</th>\n",
       "      <th>CALL_TYPE</th>\n",
       "      <th>ORIGIN_CALL</th>\n",
       "      <th>ORIGIN_STAND</th>\n",
       "      <th>TAXI_ID</th>\n",
       "      <th>TIMESTAMP</th>\n",
       "      <th>DAY_TYPE</th>\n",
       "      <th>MISSING_DATA</th>\n",
       "      <th>POLYLINE</th>\n",
       "    </tr>\n",
       "  </thead>\n",
       "  <tbody>\n",
       "    <tr>\n",
       "      <th>0</th>\n",
       "      <td>1372636858620000589</td>\n",
       "      <td>C</td>\n",
       "      <td>&lt;NA&gt;</td>\n",
       "      <td>&lt;NA&gt;</td>\n",
       "      <td>20000589</td>\n",
       "      <td>1372636858</td>\n",
       "      <td>A</td>\n",
       "      <td>False</td>\n",
       "      <td>[[-8.618643,41.141412],[-8.618499,41.141376],[...</td>\n",
       "    </tr>\n",
       "    <tr>\n",
       "      <th>1</th>\n",
       "      <td>1372637303620000596</td>\n",
       "      <td>B</td>\n",
       "      <td>&lt;NA&gt;</td>\n",
       "      <td>7</td>\n",
       "      <td>20000596</td>\n",
       "      <td>1372637303</td>\n",
       "      <td>A</td>\n",
       "      <td>False</td>\n",
       "      <td>[[-8.639847,41.159826],[-8.640351,41.159871],[...</td>\n",
       "    </tr>\n",
       "    <tr>\n",
       "      <th>2</th>\n",
       "      <td>1372636951620000320</td>\n",
       "      <td>C</td>\n",
       "      <td>&lt;NA&gt;</td>\n",
       "      <td>&lt;NA&gt;</td>\n",
       "      <td>20000320</td>\n",
       "      <td>1372636951</td>\n",
       "      <td>A</td>\n",
       "      <td>False</td>\n",
       "      <td>[[-8.612964,41.140359],[-8.613378,41.14035],[-...</td>\n",
       "    </tr>\n",
       "    <tr>\n",
       "      <th>3</th>\n",
       "      <td>1372636854620000520</td>\n",
       "      <td>C</td>\n",
       "      <td>&lt;NA&gt;</td>\n",
       "      <td>&lt;NA&gt;</td>\n",
       "      <td>20000520</td>\n",
       "      <td>1372636854</td>\n",
       "      <td>A</td>\n",
       "      <td>False</td>\n",
       "      <td>[[-8.574678,41.151951],[-8.574705,41.151942],[...</td>\n",
       "    </tr>\n",
       "    <tr>\n",
       "      <th>4</th>\n",
       "      <td>1372637091620000337</td>\n",
       "      <td>C</td>\n",
       "      <td>&lt;NA&gt;</td>\n",
       "      <td>&lt;NA&gt;</td>\n",
       "      <td>20000337</td>\n",
       "      <td>1372637091</td>\n",
       "      <td>A</td>\n",
       "      <td>False</td>\n",
       "      <td>[[-8.645994,41.18049],[-8.645949,41.180517],[-...</td>\n",
       "    </tr>\n",
       "  </tbody>\n",
       "</table>\n",
       "</div>"
      ],
      "text/plain": [
       "               TRIP_ID CALL_TYPE  ORIGIN_CALL  ORIGIN_STAND   TAXI_ID  \\\n",
       "0  1372636858620000589         C         <NA>          <NA>  20000589   \n",
       "1  1372637303620000596         B         <NA>             7  20000596   \n",
       "2  1372636951620000320         C         <NA>          <NA>  20000320   \n",
       "3  1372636854620000520         C         <NA>          <NA>  20000520   \n",
       "4  1372637091620000337         C         <NA>          <NA>  20000337   \n",
       "\n",
       "    TIMESTAMP DAY_TYPE  MISSING_DATA  \\\n",
       "0  1372636858        A         False   \n",
       "1  1372637303        A         False   \n",
       "2  1372636951        A         False   \n",
       "3  1372636854        A         False   \n",
       "4  1372637091        A         False   \n",
       "\n",
       "                                            POLYLINE  \n",
       "0  [[-8.618643,41.141412],[-8.618499,41.141376],[...  \n",
       "1  [[-8.639847,41.159826],[-8.640351,41.159871],[...  \n",
       "2  [[-8.612964,41.140359],[-8.613378,41.14035],[-...  \n",
       "3  [[-8.574678,41.151951],[-8.574705,41.151942],[...  \n",
       "4  [[-8.645994,41.18049],[-8.645949,41.180517],[-...  "
      ]
     },
     "execution_count": 8,
     "metadata": {},
     "output_type": "execute_result"
    }
   ],
   "source": [
    "def clean_data(df):\n",
    "    #Data conversion ORIGIN_CALL\n",
    "    #Converts ORIGIN_CALL column from float64 to INT64, invalid parsing will be set as NaN\n",
    "    df[\"ORIGIN_CALL\"] = pd.to_numeric(df[\"ORIGIN_CALL\"], errors='coerce').astype('Int64')\n",
    "\n",
    "    #Data conversion ORIGIN_CALL\n",
    "    #Converts CALL_TYPE column from object to String\n",
    "    df[\"CALL_TYPE\"] = df[\"CALL_TYPE\"].astype('string')\n",
    "\n",
    "    #Data conversion ORIGIN_STAND\n",
    "    #Converts ORIGIN_CALL column from float64 to INT64, invalid parsing will be set as NaN\n",
    "    df[\"ORIGIN_STAND\"] = pd.to_numeric(df[\"ORIGIN_STAND\"], errors='coerce').astype('Int64')\n",
    "\n",
    "    #Data conversion TRIP_ID \n",
    "    #Convert TRIP_ID from object to String\n",
    "    df[\"TRIP_ID\"] = df[\"TRIP_ID\"].astype(\"string\")\n",
    "\n",
    "    #Data conversion POLYLINE\n",
    "    #Convert POLYLINE from object to String\n",
    "    df[\"POLYLINE\"] = df[\"POLYLINE\"].astype(\"string\")\n",
    "\n",
    "    #Data conversion DAY_TYPE\n",
    "    #Convert DAY_TYPE from object to String\n",
    "    df[\"DAY_TYPE\"] = df[\"DAY_TYPE\"].astype(\"string\")\n",
    "    return df\n",
    "\n",
    "df_clean = clean_data(df.copy())\n",
    "df_clean.head()\n"
   ]
  },
  {
   "cell_type": "code",
   "execution_count": 10,
   "metadata": {},
   "outputs": [
    {
     "name": "stdout",
     "output_type": "stream",
     "text": [
      "<class 'pandas.core.frame.DataFrame'>\n",
      "RangeIndex: 1710670 entries, 0 to 1710669\n",
      "Data columns (total 9 columns):\n",
      " #   Column        Dtype \n",
      "---  ------        ----- \n",
      " 0   TRIP_ID       string\n",
      " 1   CALL_TYPE     string\n",
      " 2   ORIGIN_CALL   Int64 \n",
      " 3   ORIGIN_STAND  Int64 \n",
      " 4   TAXI_ID       int64 \n",
      " 5   TIMESTAMP     int64 \n",
      " 6   DAY_TYPE      string\n",
      " 7   MISSING_DATA  bool  \n",
      " 8   POLYLINE      string\n",
      "dtypes: Int64(2), bool(1), int64(2), string(4)\n",
      "memory usage: 109.3 MB\n"
     ]
    }
   ],
   "source": [
    "df_clean.info()"
   ]
  },
  {
   "cell_type": "markdown",
   "metadata": {},
   "source": [
    "### 5- Frequency Distributions (histograms) **(not necessary for this analysis, numeric values are not measurable)**"
   ]
  },
  {
   "cell_type": "markdown",
   "metadata": {},
   "source": [
    "#### 5.1-Histogram with matplotlib "
   ]
  },
  {
   "cell_type": "code",
   "execution_count": null,
   "metadata": {},
   "outputs": [],
   "source": [
    "#plt.hist(df['ORIGIN_STAND'], bins=10)\n",
    "#plt.show()"
   ]
  },
  {
   "cell_type": "markdown",
   "metadata": {},
   "source": [
    "#### 5.2-Histogram with seaborn"
   ]
  },
  {
   "cell_type": "code",
   "execution_count": null,
   "metadata": {},
   "outputs": [],
   "source": [
    "#sns.displot(df['ORIGIN_STAND'])"
   ]
  },
  {
   "cell_type": "markdown",
   "metadata": {},
   "source": [
    "### 6- Handle outliers **(not necessary for this analysis, numeric values are not measurable)**"
   ]
  },
  {
   "cell_type": "markdown",
   "metadata": {},
   "source": [
    "#### 6.1-Method 1- Using boxsplot and IQR"
   ]
  },
  {
   "cell_type": "code",
   "execution_count": null,
   "metadata": {},
   "outputs": [],
   "source": [
    "#plt.boxplot(df['COLUMN NAME'])\n",
    "#plt.grid(True)\n",
    "#plt.show()"
   ]
  },
  {
   "cell_type": "markdown",
   "metadata": {},
   "source": [
    "#### 6.2- Method 2- Obtain the outliers manually"
   ]
  },
  {
   "cell_type": "code",
   "execution_count": null,
   "metadata": {},
   "outputs": [],
   "source": [
    "# Get q1, q2, q3 and iqr\n",
    "q1 = df['Column name'].quantile(0.25)\n",
    "q2 = df['Column name'].median()\n",
    "q3 = df['Column name'].quantile(0.75)\n",
    "iqr = q3 - q1 #interquartilic range\n",
    "\n",
    "#List to add the outliers values\n",
    "outliers = []\n",
    "\n",
    "#Function to iterate and get the outliers from a column from the df\n",
    "def detect_outliers(data, q1, q3, iqr):\n",
    "  data = sorted(df['Columns Name'])\n",
    "  lower_limit = q1 -(1.5 * iqr)\n",
    "  upper_limit = q3 + (1.5 * iqr)\n",
    "  for i in data:\n",
    "    if (i<lower_limit or i>upper_limit):\n",
    "      outliers.append(i)\n",
    "  return outliers\n",
    "\n",
    "# Call to the function\n",
    "outliers_values = detect_outliers(df,q1, q3, iqr)\n",
    "\n",
    "# Show the outliers\n",
    "print(f\"Quantity of ouliers: {len(outliers_values)}\")\n",
    "print(outliers_values)"
   ]
  },
  {
   "cell_type": "markdown",
   "metadata": {},
   "source": [
    "### 7-Correlation **(not necessary for this analysis, numeric values are not measurable)**"
   ]
  },
  {
   "cell_type": "markdown",
   "metadata": {},
   "source": [
    "#### 7.1- Correlation matrix"
   ]
  },
  {
   "cell_type": "code",
   "execution_count": null,
   "metadata": {},
   "outputs": [],
   "source": [
    "# Show the relationship between the numeric columns, the corr() method ignores \"not numeric\" columns\n",
    "\n",
    "#df.corr()\n",
    "\n",
    "# Show the relationship between two numeric columns\n",
    "#df['Column1'].corr(df['Column2'])"
   ]
  },
  {
   "cell_type": "markdown",
   "metadata": {},
   "source": [
    "The Result of the `corr()` method is a table with a lot of numbers that represents how well the relationship is between two columns.\n",
    "\n",
    "The number varies from -1 to 1.\n",
    "\n",
    "1 means that there is a 1 to 1 relationship (a perfect correlation), and for this data set, each time a value went up in the first column, the other one went up as well.\n",
    "\n",
    "0.9 is also a good relationship, and if you increase one value, the other will probably increase as well.\n",
    "\n",
    "-0.9 would be just as good relationship as 0.9, but if you increase one value, the other will probably go down.\n",
    "\n",
    "0.2 means NOT a good relationship, meaning that if one value goes up does not mean that the other will.\n",
    "What is a good correlation? It depends on the use, but I think it is safe to say you have to have at least 0.6 (or -0.6) to call it a good correlation."
   ]
  },
  {
   "cell_type": "markdown",
   "metadata": {},
   "source": [
    "#### 7.2- Scatterplot"
   ]
  },
  {
   "cell_type": "code",
   "execution_count": null,
   "metadata": {},
   "outputs": [],
   "source": [
    "df.plot(kind = 'scatter', x = 'Column for x axis', y = 'Column for y axis')\n",
    "plt.show()"
   ]
  },
  {
   "cell_type": "markdown",
   "metadata": {},
   "source": [
    "### 8-Bar graphs"
   ]
  },
  {
   "cell_type": "code",
   "execution_count": 35,
   "metadata": {},
   "outputs": [
    {
     "name": "stdout",
     "output_type": "stream",
     "text": [
      "ORIGIN_STAND\n",
      "15    80241\n",
      "57    50882\n",
      "9     34818\n",
      "33    34128\n",
      "23    33344\n",
      "18    32937\n",
      "53    31712\n",
      "13    25685\n",
      "12    25434\n",
      "36    24754\n",
      "34    20277\n",
      "10    18627\n",
      "7     18557\n",
      "25    18461\n",
      "14    18189\n",
      "61    17202\n",
      "27    17035\n",
      "6     16639\n",
      "21    16471\n",
      "60    16235\n",
      "dtype: int64\n"
     ]
    }
   ],
   "source": [
    "#Top n origin stands\n",
    "top_n_origin_stand_count = df_clean.groupby(\"ORIGIN_STAND\").size().sort_values(ascending=False).head(20)\n",
    "print(top_n_origin_stand_count)"
   ]
  },
  {
   "cell_type": "code",
   "execution_count": 37,
   "metadata": {},
   "outputs": [
    {
     "data": {
      "image/png": "[encoded data removed]",
      "text/plain": [
       "<Figure size 640x480 with 1 Axes>"
      ]
     },
     "metadata": {},
     "output_type": "display_data"
    }
   ],
   "source": [
    "top_n_origin_stand_count.plot(kind='bar')\n",
    "plt.show()"
   ]
  },
  {
   "cell_type": "code",
   "execution_count": 40,
   "metadata": {},
   "outputs": [
    {
     "name": "stdout",
     "output_type": "stream",
     "text": [
      "ORIGIN_STAND\n",
      "39    1464\n",
      "46    1315\n",
      "44    1227\n",
      "2     1191\n",
      "4     1153\n",
      "41     506\n",
      "43     493\n",
      "8      381\n",
      "5       53\n",
      "48       7\n",
      "dtype: int64\n"
     ]
    }
   ],
   "source": [
    "#Lowest n origin stands\n",
    "lowes_n_origin_stand_count = df_clean.groupby(\"ORIGIN_STAND\").size().sort_values(ascending=False).tail(10)\n",
    "print(lowes_n_origin_stand_count)"
   ]
  },
  {
   "cell_type": "code",
   "execution_count": 41,
   "metadata": {},
   "outputs": [
    {
     "data": {
      "text/plain": [
       "<Axes: xlabel='ORIGIN_STAND'>"
      ]
     },
     "execution_count": 41,
     "metadata": {},
     "output_type": "execute_result"
    },
    {
     "data": {
      "image/png": "[encoded data removed]",
      "text/plain": [
       "<Figure size 640x480 with 1 Axes>"
      ]
     },
     "metadata": {},
     "output_type": "display_data"
    }
   ],
   "source": [
    "lowes_n_origin_stand_count.plot(kind=\"bar\")"
   ]
  },
  {
   "cell_type": "code",
   "execution_count": 42,
   "metadata": {},
   "outputs": [
    {
     "name": "stdout",
     "output_type": "stream",
     "text": [
      "TAXI_ID\n",
      "20000080    10746\n",
      "20000403     9238\n",
      "20000066     8449\n",
      "20000364     7821\n",
      "20000483     7729\n",
      "20000129     7609\n",
      "20000307     7498\n",
      "20000621     7276\n",
      "20000089     7267\n",
      "20000424     7176\n",
      "20000492     7171\n",
      "20000529     6937\n",
      "20000616     6924\n",
      "20000678     6538\n",
      "20000372     6535\n",
      "dtype: int64\n"
     ]
    }
   ],
   "source": [
    "# Top n taxidrivers\n",
    "top_n_taxidrivers = df_clean.groupby(\"TAXI_ID\").size().sort_values(ascending=False).head(15)\n",
    "print(top_n_taxidrivers)"
   ]
  }
 ],
 "metadata": {
  "kernelspec": {
   "display_name": "Python 3",
   "language": "python",
   "name": "python3"
  },
  "language_info": {
   "codemirror_mode": {
    "name": "ipython",
    "version": 3
   },
   "file_extension": ".py",
   "mimetype": "text/x-python",
   "name": "python",
   "nbconvert_exporter": "python",
   "pygments_lexer": "ipython3",
   "version": "3.12.1"
  }
 },
 "nbformat": 4,
 "nbformat_minor": 2
}
